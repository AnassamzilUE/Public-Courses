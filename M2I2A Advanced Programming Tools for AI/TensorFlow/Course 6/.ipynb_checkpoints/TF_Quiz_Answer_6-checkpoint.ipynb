{
 "cells": [
  {
   "cell_type": "markdown",
   "id": "03f8302f-776a-4b22-be6c-695d771a5020",
   "metadata": {},
   "source": [
    "# Answers:\n",
    "1. a\n",
    "2. c\n",
    "3. a\n",
    "4. b\n",
    "5. b\n",
    "6. c\n",
    "7. c\n",
    "8. a\n",
    "9. a\n",
    "10. b\n",
    "11. b\n",
    "12. a\n",
    "13. b\n",
    "14. b\n",
    "15. a"
   ]
  }
 ],
 "metadata": {
  "kernelspec": {
   "display_name": "Python 3 (ipykernel)",
   "language": "python",
   "name": "python3"
  },
  "language_info": {
   "codemirror_mode": {
    "name": "ipython",
    "version": 3
   },
   "file_extension": ".py",
   "mimetype": "text/x-python",
   "name": "python",
   "nbconvert_exporter": "python",
   "pygments_lexer": "ipython3",
   "version": "3.11.7"
  }
 },
 "nbformat": 4,
 "nbformat_minor": 5
}
