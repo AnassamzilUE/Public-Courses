{
 "cells": [
  {
   "cell_type": "markdown",
   "id": "9bdba2fc-1b19-40d4-aadb-0482f5d150f2",
   "metadata": {},
   "source": [
    "### Question 1: b\n",
    "\n",
    "### Question 2: b\n",
    "\n",
    "### Question 3: b\n",
    "\n",
    "### Question 4: b\n",
    "\n",
    "### Question 5: b\n",
    "\n",
    "### Question 6: b\n",
    "\n",
    "### Question 7: b\n",
    "\n",
    "### Question 8: b\n",
    "\n",
    "### Question 9: b\n",
    "\n",
    "### Question 10: b"
   ]
  }
 ],
 "metadata": {
  "kernelspec": {
   "display_name": "Python 3 (ipykernel)",
   "language": "python",
   "name": "python3"
  },
  "language_info": {
   "codemirror_mode": {
    "name": "ipython",
    "version": 3
   },
   "file_extension": ".py",
   "mimetype": "text/x-python",
   "name": "python",
   "nbconvert_exporter": "python",
   "pygments_lexer": "ipython3",
   "version": "3.11.7"
  }
 },
 "nbformat": 4,
 "nbformat_minor": 5
}
