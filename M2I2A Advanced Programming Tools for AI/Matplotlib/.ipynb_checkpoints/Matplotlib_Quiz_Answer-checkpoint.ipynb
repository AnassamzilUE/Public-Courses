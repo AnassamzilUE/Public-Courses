{
 "cells": [
  {
   "cell_type": "markdown",
   "id": "b801e33c-aa30-4f9a-ab94-8a64338bf8df",
   "metadata": {},
   "source": [
    "### Question 1: C\n",
    "### Question 2: A\n",
    "### Question 3: B\n",
    "### Question 4: B\n",
    "### Question 5: C\n",
    "### Question 6: C\n",
    "### Question 7: A\n",
    "### Question 8: A\n",
    "### Question 9: C\n",
    "### Question 10: B\n"
   ]
  }
 ],
 "metadata": {
  "kernelspec": {
   "display_name": "Python 3 (ipykernel)",
   "language": "python",
   "name": "python3"
  },
  "language_info": {
   "codemirror_mode": {
    "name": "ipython",
    "version": 3
   },
   "file_extension": ".py",
   "mimetype": "text/x-python",
   "name": "python",
   "nbconvert_exporter": "python",
   "pygments_lexer": "ipython3",
   "version": "3.11.7"
  }
 },
 "nbformat": 4,
 "nbformat_minor": 5
}
