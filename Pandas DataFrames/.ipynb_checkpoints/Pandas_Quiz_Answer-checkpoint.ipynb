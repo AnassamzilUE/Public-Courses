{
 "cells": [
  {
   "cell_type": "code",
   "execution_count": null,
   "id": "0f21f914-553a-416a-9e54-c5d2c41dbe6d",
   "metadata": {},
   "outputs": [],
   "source": [
    "Question 1: B\n",
    "Question 2: B\n",
    "Question 3: B\n",
    "Question 4: A\n",
    "Question 5: A\n",
    "Question 6: B\n",
    "Question 7: A\n",
    "Question 8: B\n",
    "Question 9: A\n",
    "Question 10: B"
   ]
  }
 ],
 "metadata": {
  "kernelspec": {
   "display_name": "Python 3 (ipykernel)",
   "language": "python",
   "name": "python3"
  },
  "language_info": {
   "codemirror_mode": {
    "name": "ipython",
    "version": 3
   },
   "file_extension": ".py",
   "mimetype": "text/x-python",
   "name": "python",
   "nbconvert_exporter": "python",
   "pygments_lexer": "ipython3",
   "version": "3.11.7"
  }
 },
 "nbformat": 4,
 "nbformat_minor": 5
}
