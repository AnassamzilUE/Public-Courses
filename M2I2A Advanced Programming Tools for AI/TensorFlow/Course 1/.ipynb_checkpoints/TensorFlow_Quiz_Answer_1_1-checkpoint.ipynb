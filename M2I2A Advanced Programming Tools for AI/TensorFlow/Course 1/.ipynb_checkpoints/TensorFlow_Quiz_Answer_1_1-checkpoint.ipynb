{
 "cells": [
  {
   "cell_type": "markdown",
   "id": "bf170348-48f8-4718-b114-f0d0ee2426eb",
   "metadata": {},
   "source": [
    "#### Question 1: b\n",
    "\n",
    "#### Question 2: a\n",
    "\n",
    "#### Question 3: b\n",
    "\n",
    "#### Question 4: b\n",
    "\n",
    "#### Question 5: c\n",
    "\n",
    "#### Question 6: d\n",
    "\n",
    "#### Question 7: b\n",
    "\n",
    "#### Question 8: b\n",
    "\n",
    "#### Question 9: a\n",
    "\n",
    "#### Question 10: b\n",
    "\n",
    "#### Question 11: c\n",
    "\n",
    "#### Question 12: a\n",
    "\n",
    "#### Question 13: b\n",
    "\n",
    "#### Question 14: a\n",
    "\n",
    "#### Question 15: c"
   ]
  }
 ],
 "metadata": {
  "kernelspec": {
   "display_name": "Python 3 (ipykernel)",
   "language": "python",
   "name": "python3"
  },
  "language_info": {
   "codemirror_mode": {
    "name": "ipython",
    "version": 3
   },
   "file_extension": ".py",
   "mimetype": "text/x-python",
   "name": "python",
   "nbconvert_exporter": "python",
   "pygments_lexer": "ipython3",
   "version": "3.11.7"
  }
 },
 "nbformat": 4,
 "nbformat_minor": 5
}
