{
 "cells": [
  {
   "cell_type": "markdown",
   "id": "fd95088f-c33c-4015-be69-17f4608c9979",
   "metadata": {},
   "source": [
    "# Answers\n",
    "\n",
    "**Question 1:** B\n",
    "\n",
    "**Question 2:** C\n",
    "\n",
    "**Question 3:** B\n",
    "\n",
    "**Question 4:** A\n",
    "\n",
    "**Question 5:** B\n",
    "\n",
    "**Question 6:** D\n",
    "\n",
    "**Question 7:** B\n",
    "\n",
    "**Question 8:** B\n",
    "\n",
    "**Question 9:** B\n",
    "\n",
    "**Question 10:** C\n",
    "\n",
    "**Question 11:** C\n",
    "\n",
    "**Question 12:** B\n",
    "\n",
    "**Question 13:** B\n",
    "\n",
    "**Question 14:** A\n",
    "\n",
    "**Question 15:** B\n",
    "\n",
    "**Question 16:** B\n",
    "\n",
    "**Question 17:** C\n",
    "\n",
    "**Question 18:** B\n",
    "\n",
    "**Question 19:** A\n",
    "\n",
    "**Question 20:** C"
   ]
  }
 ],
 "metadata": {
  "kernelspec": {
   "display_name": "Python 3 (ipykernel)",
   "language": "python",
   "name": "python3"
  },
  "language_info": {
   "codemirror_mode": {
    "name": "ipython",
    "version": 3
   },
   "file_extension": ".py",
   "mimetype": "text/x-python",
   "name": "python",
   "nbconvert_exporter": "python",
   "pygments_lexer": "ipython3",
   "version": "3.11.7"
  }
 },
 "nbformat": 4,
 "nbformat_minor": 5
}
