{
 "cells": [
  {
   "cell_type": "code",
   "execution_count": null,
   "id": "f5768e40-39a9-4039-8254-39bc0294a690",
   "metadata": {},
   "outputs": [],
   "source": [
    "# Author : Mehdi Ammi, Univ. Paris 8"
   ]
  },
  {
   "cell_type": "markdown",
   "id": "9a33c1c9-963b-42c8-83c9-7cc139915d9a",
   "metadata": {},
   "source": [
    "# Introduction to Pandas DataFrames"
   ]
  },
  {
   "cell_type": "markdown",
   "id": "8796dc46-4e3d-43ba-8c65-e8dd9dd11ab6",
   "metadata": {},
   "source": [
    "In this notebook, you'll learn how to leverage pandas' extremely powerful data manipulation engine to get the most out of your data. It is important to be able to extract, filter, and transform data from DataFrames in order to drill into the data that really matters. The pandas library has many techniques that make this process efficient and intuitive. You will learn how to tidy, rearrange, and restructure your data by pivoting or melting and stacking or unstacking DataFrames. These are all fundamental next steps on the road to becoming a well-rounded Data Scientist, and you will have the chance to apply all the concepts you learn to real-world datasets.\n",
    "\n",
    "A detailed course on Pandas is given on : https://github.com/guiwitz/NumpyPandas_course.git"
   ]
  },
  {
   "cell_type": "markdown",
   "id": "9cbadd9f-8c87-4be7-9769-8f1295cbbe60",
   "metadata": {},
   "source": [
    "## Series in Pandas\n",
    "\n",
    "A Series in Pandas is a one-dimensional array-like object that can hold various data types. It is similar to a column in a spreadsheet or a database table. Each Series has an associated array of labels, called its index."
   ]
  },
  {
   "cell_type": "markdown",
   "id": "66dfb134-b421-434b-a2dd-e002cbab289a",
   "metadata": {},
   "source": [
    "### Loading Libraries\n",
    "\n",
    "First, let's import the necessary libraries:"
   ]
  },
  {
   "cell_type": "code",
   "execution_count": null,
   "id": "68aff137-05fc-4a8b-9487-228bce5fb797",
   "metadata": {},
   "outputs": [],
   "source": [
    "import numpy as np\n",
    "import pandas as pd"
   ]
  },
  {
   "cell_type": "markdown",
   "id": "c5d03e61-9b09-47d6-a643-4a9bbb090309",
   "metadata": {},
   "source": [
    "### Creating a Series\n",
    "\n",
    "A Series can be created from different data structures like lists, NumPy arrays, and dictionaries.\n",
    "\n",
    "Example 1: Creating a Series from a List\n",
    "\n",
    "Let's create a Series using a simple list:"
   ]
  },
  {
   "cell_type": "code",
   "execution_count": null,
   "id": "288a0d73-9329-4405-b5ef-e288f33fd030",
   "metadata": {},
   "outputs": [],
   "source": [
    "labels = ['a', 'b', 'c']\n",
    "my_list = [10, 20, 20]\n",
    "\n",
    "# Creating a Series without specifying an index\n",
    "pd.Series(data=my_list)"
   ]
  },
  {
   "cell_type": "code",
   "execution_count": null,
   "id": "37cab80f-87e8-4265-bf51-e1e50a34714d",
   "metadata": {},
   "outputs": [],
   "source": [
    ">>\n",
    "0    10\n",
    "1    20\n",
    "2    20\n",
    "dtype: int64"
   ]
  },
  {
   "cell_type": "markdown",
   "id": "07028182-4684-4c6f-b988-af9da32752d2",
   "metadata": {},
   "source": [
    "### Creating a Series with Custom Index\n",
    "\n",
    "We can also create a Series with a custom index:"
   ]
  },
  {
   "cell_type": "code",
   "execution_count": null,
   "id": "dc01c5f6-bea6-4203-bf18-adbf87a847cf",
   "metadata": {},
   "outputs": [],
   "source": [
    "pd.Series(data=my_list, index=labels)"
   ]
  },
  {
   "cell_type": "code",
   "execution_count": null,
   "id": "105e2388-9d52-45ec-a70f-464de1660f4d",
   "metadata": {},
   "outputs": [],
   "source": [
    ">>\n",
    "a    10\n",
    "b    20\n",
    "c    20\n",
    "dtype: int64"
   ]
  },
  {
   "cell_type": "markdown",
   "id": "fceb37a4-8055-4ea9-a97f-724f05b63cd3",
   "metadata": {},
   "source": [
    "### Creating a Series from a Dictionary\n",
    "\n",
    "A dictionary can be directly converted into a Series, where keys become the index:"
   ]
  },
  {
   "cell_type": "code",
   "execution_count": null,
   "id": "e61d575f-7e88-4f3c-979b-f512dcca3aa8",
   "metadata": {},
   "outputs": [],
   "source": [
    "d = {'a': 10, 'b': 20, 'c': 30}\n",
    "pd.Series(data=d)"
   ]
  },
  {
   "cell_type": "code",
   "execution_count": null,
   "id": "fa4c2ddd-022f-4a8b-989a-3ed2801f03b1",
   "metadata": {},
   "outputs": [],
   "source": [
    ">>\n",
    "a    10\n",
    "b    20\n",
    "c    30\n",
    "dtype: int64"
   ]
  },
  {
   "cell_type": "markdown",
   "id": "13a641fe-1a09-4107-be02-329a7d0be39b",
   "metadata": {},
   "source": [
    "### Creating a Series from a NumPy Array\n",
    "\n",
    "Similarly, a NumPy array can be used to create a Series:"
   ]
  },
  {
   "cell_type": "code",
   "execution_count": null,
   "id": "2847187e-bccd-42af-9c11-cf7acd0d6218",
   "metadata": {},
   "outputs": [],
   "source": [
    "arr = np.array([10, 20, 30])\n",
    "\n",
    "pd.Series(data=arr)"
   ]
  },
  {
   "cell_type": "code",
   "execution_count": null,
   "id": "d05916d3-5a70-4ff5-9065-13b90f26e122",
   "metadata": {},
   "outputs": [],
   "source": [
    ">>\n",
    "0    10\n",
    "1    20\n",
    "2    30\n",
    "dtype: int32"
   ]
  },
  {
   "cell_type": "markdown",
   "id": "b524a216-d6a0-4d63-a5d3-4c191c3c0d24",
   "metadata": {},
   "source": [
    "### Series with Custom Index\n",
    "\n",
    "We can create a Series with custom indices, such as names of cities:"
   ]
  },
  {
   "cell_type": "code",
   "execution_count": null,
   "id": "f4e01aab-2f6e-47fb-ab0f-511dee4113b2",
   "metadata": {},
   "outputs": [],
   "source": [
    "series1 = pd.Series([1, 2, 3, 4], index=['Mombasa', 'Nakuru', 'Kisumu', 'Nairobi'])\n",
    "series1"
   ]
  },
  {
   "cell_type": "code",
   "execution_count": null,
   "id": "fa882c45-0bf0-4f2b-b94d-fc58cf16c56c",
   "metadata": {},
   "outputs": [],
   "source": [
    ">>\n",
    "Mombasa    1\n",
    "Nakuru     2\n",
    "Kisumu     3\n",
    "Nairobi    4\n",
    "dtype: int64"
   ]
  },
  {
   "cell_type": "markdown",
   "id": "ce1ab19d-5b89-46d8-bbe0-50c93ee212c9",
   "metadata": {},
   "source": [
    "### Access to elements "
   ]
  },
  {
   "cell_type": "markdown",
   "id": "8e418563-c3b3-490a-964b-b784bd93e7b9",
   "metadata": {},
   "source": [
    "Now a given element can be accessed either by using its regular index:"
   ]
  },
  {
   "cell_type": "code",
   "execution_count": null,
   "id": "ab551522-6323-44e5-bff3-200fdd73ad4a",
   "metadata": {},
   "outputs": [],
   "source": [
    "series1[0]"
   ]
  },
  {
   "cell_type": "markdown",
   "id": "5f1b2671-5e0f-4e16-a96e-4ba43508fda7",
   "metadata": {},
   "source": [
    "or its chosen index:"
   ]
  },
  {
   "cell_type": "code",
   "execution_count": null,
   "id": "be482178-7cd7-49c0-83d1-dc602fe60f7d",
   "metadata": {},
   "outputs": [],
   "source": [
    "series1['Mombasa']"
   ]
  },
  {
   "cell_type": "markdown",
   "id": "a5c9f716-0bd0-43ab-ab42-ed4ed60b2d7e",
   "metadata": {},
   "source": [
    "### Operations with Series\n",
    "\n",
    "Performing operations between two Series with non-aligned indexes results in NaN (Not a Number) for mismatched labels:"
   ]
  },
  {
   "cell_type": "code",
   "execution_count": null,
   "id": "076b08d5-6425-4254-b896-d8a1f26d49a6",
   "metadata": {},
   "outputs": [],
   "source": [
    "series2 = pd.Series([1, 2, 3, 4], index=['Mombasa', 'Nakuru', 'Kis', 'Nairobi'])\n",
    "series2"
   ]
  },
  {
   "cell_type": "code",
   "execution_count": null,
   "id": "32ed2295-bff6-4856-aa98-9b1eadc7f20d",
   "metadata": {},
   "outputs": [],
   "source": [
    ">>\n",
    "Mombasa    1\n",
    "Nakuru     2\n",
    "Kis        3\n",
    "Nairobi    4\n",
    "dtype: int64"
   ]
  },
  {
   "cell_type": "markdown",
   "id": "15a957a4-19dd-4967-ba0c-4e5047442346",
   "metadata": {},
   "source": [
    "### Adding Two Series\n",
    "\n",
    "When adding two Series, if the indices are not aligned, the resulting Series will have NaN for those indices:"
   ]
  },
  {
   "cell_type": "code",
   "execution_count": null,
   "id": "fc54e5fe-6066-4bd1-933c-a79430a1c8e4",
   "metadata": {},
   "outputs": [],
   "source": [
    "series1 + series2"
   ]
  },
  {
   "cell_type": "code",
   "execution_count": null,
   "id": "0c7a5c45-04f6-4034-b3bd-72c1738894bb",
   "metadata": {},
   "outputs": [],
   "source": [
    ">>\n",
    "Kis        NaN\n",
    "Kisumu     NaN\n",
    "Mombasa    2.0\n",
    "Nairobi    8.0\n",
    "Nakuru     4.0\n",
    "dtype: float64"
   ]
  },
  {
   "cell_type": "markdown",
   "id": "8d6148d7-ef1c-4914-8686-cb397cbec639",
   "metadata": {},
   "source": [
    "## DataFrames in Pandas\n",
    "\n",
    "A DataFrame in Pandas is a two-dimensional, size-mutable, and potentially heterogeneous tabular data structure with labeled axes (rows and columns). It is one of the most widely used data structures for data manipulation and analysis."
   ]
  },
  {
   "cell_type": "markdown",
   "id": "69314d31-7d99-4ab2-a9a7-f0c70038cd04",
   "metadata": {},
   "source": [
    "### Loading Libraries\n",
    "\n",
    "First, let's import the necessary libraries:"
   ]
  },
  {
   "cell_type": "code",
   "execution_count": null,
   "id": "59971064-c164-4667-a3e2-5f721edd2fc8",
   "metadata": {},
   "outputs": [],
   "source": [
    "import numpy as np\n",
    "import pandas as pd\n",
    "from numpy.random import randn"
   ]
  },
  {
   "cell_type": "markdown",
   "id": "025f1940",
   "metadata": {},
   "source": [
    "To automatically generate random values in a Pandas DataFrame, you can use the np.random.randn() function, which generates values according to a normal distribution. Here is an example of code to automatically generate a DataFrame : "
   ]
  },
  {
   "cell_type": "code",
   "execution_count": null,
   "id": "dbb53271",
   "metadata": {},
   "outputs": [],
   "source": [
    "df = pd.DataFrame(np.random.randn(5, 4), index=['A', 'B', 'C', 'D', 'E'], columns=['W', 'X', 'Y', 'Z'])\n",
    "df"
   ]
  },
  {
   "cell_type": "code",
   "execution_count": null,
   "id": "6e38f4a2-6ccb-485e-9fde-78d877c3bb09",
   "metadata": {},
   "outputs": [],
   "source": [
    ">>\n",
    "          W         X         Y         Z\n",
    "A  2.706850  0.628133  0.907969  0.503826\n",
    "B  0.651118 -0.319318 -0.848077  0.605965\n",
    "C -2.018168  0.740122  0.528813 -0.589001\n",
    "D  0.188695 -0.758872 -0.933237  0.955057\n",
    "E  0.190794  1.978757  2.605967  0.683509"
   ]
  },
  {
   "cell_type": "markdown",
   "id": "fb60fec7-1382-4df8-913b-089ad1d4f0c2",
   "metadata": {},
   "source": [
    "### Selection and Indexing\n",
    "\n",
    "### Selecting a Column\n",
    "You can select a single column from the DataFrame:"
   ]
  },
  {
   "cell_type": "code",
   "execution_count": null,
   "id": "fcdf5249-da55-4a2d-abe1-cf87533b47fe",
   "metadata": {},
   "outputs": [],
   "source": [
    "df['W']"
   ]
  },
  {
   "cell_type": "code",
   "execution_count": null,
   "id": "b241ba2a-0891-410c-b05d-0f9365426ca0",
   "metadata": {},
   "outputs": [],
   "source": [
    ">>\n",
    "A    2.706850\n",
    "B    0.651118\n",
    "C   -2.018168\n",
    "D    0.188695\n",
    "E    0.190794\n",
    "Name: W, dtype: float64"
   ]
  },
  {
   "cell_type": "markdown",
   "id": "4cf6a4d1-a9b0-47f7-aa6b-900e6581b6d9",
   "metadata": {},
   "source": [
    "### Selecting Multiple Columns\n",
    "\n",
    "You can select multiple columns by passing a list of column names:"
   ]
  },
  {
   "cell_type": "code",
   "execution_count": null,
   "id": "72b13a43-6929-4f26-8d62-d160467d3c80",
   "metadata": {},
   "outputs": [],
   "source": [
    "df[['W', 'Z']]"
   ]
  },
  {
   "cell_type": "code",
   "execution_count": null,
   "id": "c77f78f3-afea-4b93-a0a5-fd5b68b19199",
   "metadata": {},
   "outputs": [],
   "source": [
    ">>\n",
    "          W         Z\n",
    "A  2.706850  0.503826\n",
    "B  0.651118  0.605965\n",
    "C -2.018168 -0.589001\n",
    "D  0.188695  0.955057\n",
    "E  0.190794  0.683509"
   ]
  },
  {
   "cell_type": "markdown",
   "id": "82108b99-33e9-4cd7-99c3-a60bac2a079c",
   "metadata": {},
   "source": [
    "### Selecting a Row\n",
    "\n",
    "You can select a row by its label using the .loc method:"
   ]
  },
  {
   "cell_type": "code",
   "execution_count": null,
   "id": "d6afc5f9-6e99-42b8-81d0-b7244ead30a9",
   "metadata": {},
   "outputs": [],
   "source": [
    "df.loc['A']"
   ]
  },
  {
   "cell_type": "code",
   "execution_count": null,
   "id": "5cde5f08-34b0-4c28-b6c3-a6059efef579",
   "metadata": {},
   "outputs": [],
   "source": [
    ">>\n",
    "W    2.706850\n",
    "X    0.628133\n",
    "Y    0.907969\n",
    "Z    0.503826\n",
    "Name: A, dtype: float64"
   ]
  },
  {
   "cell_type": "markdown",
   "id": "6e9e8560-38f9-43c5-8dd9-d35d3fc753e2",
   "metadata": {},
   "source": [
    "### Creating a New Column\n",
    "\n",
    "You can add new columns to the DataFrame:"
   ]
  },
  {
   "cell_type": "code",
   "execution_count": null,
   "id": "a71a4021-5cf9-4c29-afb4-1d4504c909c6",
   "metadata": {},
   "outputs": [],
   "source": [
    "df['Sum'] = df['W'] + df['X'] + df['Y'] + df['Z']\n",
    "df"
   ]
  },
  {
   "cell_type": "code",
   "execution_count": null,
   "id": "22e2bd0f-d55e-4df0-8251-b64f25faab0e",
   "metadata": {},
   "outputs": [],
   "source": [
    ">>\n",
    "          W         X         Y         Z       Sum\n",
    "A  2.706850  0.628133  0.907969  0.503826  4.746778\n",
    "B  0.651118 -0.319318 -0.848077  0.605965  0.089688\n",
    "C -2.018168  0.740122  0.528813 -0.589001 -1.338233\n",
    "D  0.188695 -0.758872 -0.933237  0.955057 -0.548357\n",
    "E  0.190794  1.978757  2.605967  0.683509  5.459028"
   ]
  },
  {
   "cell_type": "markdown",
   "id": "7928ea16-fc31-4bcd-baf2-ba0c7dee155c",
   "metadata": {},
   "source": [
    "You can also add a column with random values:"
   ]
  },
  {
   "cell_type": "code",
   "execution_count": null,
   "id": "7e85c52c-cf8f-4a96-b2f5-d24dda91f899",
   "metadata": {},
   "outputs": [],
   "source": [
    "df['Random'] = randn(5)\n",
    "df"
   ]
  },
  {
   "cell_type": "markdown",
   "id": "b150b90b-bc0a-4bfc-b69c-51a4977255ea",
   "metadata": {},
   "source": [
    "          W         X         Y         Z       Sum    Random\n",
    "A  2.706850  0.628133  0.907969  0.503826  4.746778  0.302665\n",
    "B  0.651118 -0.319318 -0.848077  0.605965  0.089688  1.693723\n",
    "C -2.018168  0.740122  0.528813 -0.589001 -1.338233 -1.706086\n",
    "D  0.188695 -0.758872 -0.933237  0.955057 -0.548357 -1.159119\n",
    "E  0.190794  1.978757  2.605967  0.683509  5.459028 -0.134841"
   ]
  },
  {
   "cell_type": "markdown",
   "id": "172f23a7-ec2c-4a0b-81db-8ff7a6d709af",
   "metadata": {},
   "source": [
    "### Accessing Specific Values\n",
    "\n",
    "You can access specific values using the .iloc and .loc methods:"
   ]
  },
  {
   "cell_type": "code",
   "execution_count": null,
   "id": "15f7cfac-1e34-4bcf-939f-60b5224877c7",
   "metadata": {},
   "outputs": [],
   "source": [
    "# By integer location\n",
    "df.iloc[2]"
   ]
  },
  {
   "cell_type": "code",
   "execution_count": null,
   "id": "6f5bffa7-a48c-459f-9c82-f85af13b683c",
   "metadata": {},
   "outputs": [],
   "source": [
    ">>\n",
    "W        -2.018168\n",
    "X         0.740122\n",
    "Y         0.528813\n",
    "Z        -0.589001\n",
    "Sum      -1.338233\n",
    "Random   -1.706086\n",
    "Name: C, dtype: float64"
   ]
  },
  {
   "cell_type": "code",
   "execution_count": null,
   "id": "47619809-6066-44ea-a66e-6c0958f33302",
   "metadata": {},
   "outputs": [],
   "source": [
    "# By integer location of a specific value\n",
    "df.iloc[2, 2]"
   ]
  },
  {
   "cell_type": "code",
   "execution_count": null,
   "id": "5700bb74-4d65-4c27-a204-3cfe07b68296",
   "metadata": {},
   "outputs": [],
   "source": [
    ">>\n",
    "0.5288134940893595"
   ]
  },
  {
   "cell_type": "code",
   "execution_count": null,
   "id": "35465ca2-8110-4f09-826b-3a959c4c12bc",
   "metadata": {},
   "outputs": [],
   "source": [
    "# By label location\n",
    "df.loc['B', 'X']"
   ]
  },
  {
   "cell_type": "code",
   "execution_count": null,
   "id": "a332ce16-e2f3-4e8c-ba92-ff20b4ad6faa",
   "metadata": {},
   "outputs": [],
   "source": [
    ">>\n",
    "-0.31931804459303326"
   ]
  },
  {
   "cell_type": "markdown",
   "id": "783a3654-b9cb-4a01-b6ff-7fa971f97e70",
   "metadata": {},
   "source": [
    "### Removing Columns and Rows\n",
    "\n",
    "You can remove columns and rows using the .drop method."
   ]
  },
  {
   "cell_type": "code",
   "execution_count": null,
   "id": "55e77c29-b4b6-4b36-a122-57794248ac26",
   "metadata": {},
   "outputs": [],
   "source": [
    "# Removing a Column\n",
    "df.drop('Sum', axis=1)"
   ]
  },
  {
   "cell_type": "code",
   "execution_count": null,
   "id": "e134ba53-7ea9-4e2b-bbe6-ef9e1b01ead6",
   "metadata": {},
   "outputs": [],
   "source": [
    ">>\n",
    "          W         X         Y         Z    Random\n",
    "A  2.706850  0.628133  0.907969  0.503826  0.302665\n",
    "B  0.651118 -0.319318 -0.848077  0.605965  1.693723\n",
    "C -2.018168  0.740122  0.528813 -0.589001 -1.706086\n",
    "D  0.188695 -0.758872 -0.933237  0.955057 -1.159119\n",
    "E  0.190794  1.978757  2.605967  0.683509 -0.134841"
   ]
  },
  {
   "cell_type": "code",
   "execution_count": null,
   "id": "4e8c73a0-ace8-42af-ad39-c24a0a327758",
   "metadata": {},
   "outputs": [],
   "source": [
    "## Removing a Row\n",
    "df.drop('E', axis=0, inplace=True)\n",
    "df"
   ]
  },
  {
   "cell_type": "code",
   "execution_count": null,
   "id": "1cc8048f-fd30-4a8a-b605-303b04723a30",
   "metadata": {},
   "outputs": [],
   "source": [
    ">>\n",
    "          W         X         Y         Z    Random\n",
    "A  2.706850  0.628133  0.907969  0.503826  0.302665\n",
    "B  0.651118 -0.319318 -0.848077  0.605965  1.693723\n",
    "C -2.018168  0.740122  0.528813 -0.589001 -1.706086\n",
    "D  0.188695 -0.758872 -0.933237  0.955057 -1.159119"
   ]
  },
  {
   "cell_type": "markdown",
   "id": "1517a5ba-72a3-4ddc-9177-1e8542196659",
   "metadata": {},
   "source": [
    "### Copying DataFrames\n",
    "\n",
    "You can create copies of DataFrame slices:"
   ]
  },
  {
   "cell_type": "code",
   "execution_count": null,
   "id": "6dc2e1ad-af93-48fe-aa64-f64dbfee8732",
   "metadata": {},
   "outputs": [],
   "source": [
    "df1 = df.loc['D']\n",
    "df1"
   ]
  },
  {
   "cell_type": "code",
   "execution_count": null,
   "id": "3ef80b37-b195-4e23-bca9-8613f104318a",
   "metadata": {},
   "outputs": [],
   "source": [
    ">>\n",
    "W         0.188695\n",
    "X        -0.758872\n",
    "Y        -0.933237\n",
    "Z         0.955057\n",
    "Random   -1.159119\n",
    "Name: D, dtype: float64"
   ]
  },
  {
   "cell_type": "markdown",
   "id": "d63b481b-2baf-403b-b532-e4c5cab7846d",
   "metadata": {},
   "source": [
    "### Dropping Columns\n",
    "\n",
    "To drop a column from the DataFrame, you can use the drop method:"
   ]
  },
  {
   "cell_type": "code",
   "execution_count": null,
   "id": "b1cbcb36-0718-4898-8cc3-ea3f4f47f5c5",
   "metadata": {},
   "outputs": [],
   "source": [
    "df1 = df.drop(columns='Y')\n",
    "df1"
   ]
  },
  {
   "cell_type": "code",
   "execution_count": null,
   "id": "41c6e628-9990-48af-8342-b8d035b944f8",
   "metadata": {},
   "outputs": [],
   "source": [
    ">>\n",
    "          W         X         Z    Random\n",
    "A  2.706850  0.628133  0.503826  0.302665\n",
    "B  0.651118 -0.319318  0.605965  1.693723\n",
    "C -2.018168  0.740122 -0.589001 -1.706086\n",
    "D  0.188695 -0.758872  0.955057 -1.159119"
   ]
  },
  {
   "cell_type": "markdown",
   "id": "c396c0c6-d1fa-4808-b22c-f6ccfa4e0c65",
   "metadata": {},
   "source": [
    "## Conditional Statement Selection\n",
    "\n",
    "Using conditional statements, we can filter DataFrame values. For instance, we can check which values are greater than zero.\n",
    "\n",
    "Example:"
   ]
  },
  {
   "cell_type": "code",
   "execution_count": null,
   "id": "8b5fa29d-5e87-43c8-ab6c-b811d12f3ea8",
   "metadata": {},
   "outputs": [],
   "source": [
    "df > 0"
   ]
  },
  {
   "cell_type": "code",
   "execution_count": null,
   "id": "2b7b20c0-be6e-4e9c-a157-d17618b50f03",
   "metadata": {},
   "outputs": [],
   "source": [
    ">>\n",
    "       W      X      Y      Z  Random\n",
    "A   True   True   True   True    True\n",
    "B   True  False  False   True    True\n",
    "C  False   True   True  False   False\n",
    "D   True  False  False   True   False"
   ]
  },
  {
   "cell_type": "markdown",
   "id": "922ffe71-a25b-4c6e-b643-8e8490e30a96",
   "metadata": {},
   "source": [
    "### Resetting the Index\n",
    "\n",
    "To reset the index of a DataFrame to the default integer index (0, 1, 2, ...), we use the reset_index() method."
   ]
  },
  {
   "cell_type": "code",
   "execution_count": null,
   "id": "9c5ea78b-9e65-46c3-99d8-91d179873f69",
   "metadata": {},
   "outputs": [],
   "source": [
    "df.reset_index()"
   ]
  },
  {
   "cell_type": "code",
   "execution_count": null,
   "id": "2ca08e89-3a91-4156-8b3f-26dedf965926",
   "metadata": {},
   "outputs": [],
   "source": [
    ">>\n",
    "  index         W         X         Y         Z    Random\n",
    "0     A  2.706850  0.628133  0.907969  0.503826  0.302665\n",
    "1     B  0.651118 -0.319318 -0.848077  0.605965  1.693723\n",
    "2     C -2.018168  0.740122  0.528813 -0.589001 -1.706086\n",
    "3     D  0.188695 -0.758872 -0.933237  0.955057 -1.159119"
   ]
  },
  {
   "cell_type": "markdown",
   "id": "a7cce602-9c2a-4b7a-91d6-3145516d4af6",
   "metadata": {},
   "source": [
    "### Adding a Column\n",
    "\n",
    "To add a new column, we can use the loc accessor. For example, let's add a column named 'state'."
   ]
  },
  {
   "cell_type": "code",
   "execution_count": null,
   "id": "ec776782-e76d-40b3-9011-8214b99d2ad9",
   "metadata": {},
   "outputs": [],
   "source": [
    "newId = 'DE AB CD EF EG'.split()\n",
    "df.loc['state'] = newId\n",
    "df"
   ]
  },
  {
   "cell_type": "code",
   "execution_count": null,
   "id": "a29bfca9-edc9-44e3-b9f8-fe87ef999369",
   "metadata": {},
   "outputs": [],
   "source": [
    ">>\n",
    "            W         X         Y         Z    Random\n",
    "A    2.706850  0.628133  0.907969  0.503826  0.302665\n",
    "B    0.651118 -0.319318 -0.848077  0.605965  1.693723\n",
    "C   -2.018168  0.740122  0.528813 -0.589001 -1.706086\n",
    "D    0.188695 -0.758872 -0.933237  0.955057 -1.159119\n",
    "state      DE        AB        CD        EF        EG"
   ]
  },
  {
   "cell_type": "markdown",
   "id": "856afd04-57d5-4d60-8609-9ea7905f2118",
   "metadata": {},
   "source": [
    "### Setting a New Index\n",
    "\n",
    "We can set a new index for the DataFrame using the set_index method."
   ]
  },
  {
   "cell_type": "code",
   "execution_count": null,
   "id": "3789bbda-a1cf-4653-b8a9-0a485e269bb0",
   "metadata": {},
   "outputs": [],
   "source": [
    "df.set_index('state', inplace=True)\n",
    "df"
   ]
  },
  {
   "cell_type": "code",
   "execution_count": null,
   "id": "57578572-d592-449f-aa8b-46ad4ad8f583",
   "metadata": {},
   "outputs": [],
   "source": [
    ">>\n",
    "            W         X         Y         Z    Random\n",
    "state                                             \n",
    "DE    2.706850  0.628133  0.907969  0.503826  0.302665\n",
    "AB    0.651118 -0.319318 -0.848077  0.605965  1.693723\n",
    "CD   -2.018168  0.740122  0.528813 -0.589001 -1.706086\n",
    "EF    0.188695 -0.758872 -0.933237  0.955057 -1.159119\n",
    "EG         DE        AB        CD        EF        EG"
   ]
  },
  {
   "cell_type": "markdown",
   "id": "44ff80d5-8e04-43f4-b834-46c11ab68555",
   "metadata": {},
   "source": [
    "## Merging, Joining and Concatenation\n",
    "\n",
    "We will explore how to merge, join, and concatenate DataFrames in Pandas. These operations are essential for combining data from multiple sources, similar to how you would perform operations in SQL."
   ]
  },
  {
   "cell_type": "markdown",
   "id": "c50f0cb2-d34b-465a-bc53-1cffbd893a90",
   "metadata": {},
   "source": [
    "Creating DataFrames"
   ]
  },
  {
   "cell_type": "code",
   "execution_count": null,
   "id": "b49ab26f-a81e-458e-8ecc-b38753eb4040",
   "metadata": {},
   "outputs": [],
   "source": [
    "import pandas as pd\n",
    "\n",
    "# Creating the first DataFrame\n",
    "df3 = pd.DataFrame({\n",
    "    'A': ['A0', 'A1', 'A2', 'A3'],\n",
    "    'B': ['B0', 'B1', 'B2', 'B3'],\n",
    "    'C': ['C0', 'C1', 'C2', 'C3'],\n",
    "    'D': ['D0', 'D1', 'D2', 'D3']\n",
    "}, index=[0, 1, 2, 3])\n",
    "\n",
    "df3"
   ]
  },
  {
   "cell_type": "code",
   "execution_count": null,
   "id": "50226fba-5083-453a-a096-c68432f52f35",
   "metadata": {},
   "outputs": [],
   "source": [
    ">>\n",
    "    A   B   C   D\n",
    "0  A0  B0  C0  D0\n",
    "1  A1  B1  C1  D1\n",
    "2  A2  B2  C2  D2\n",
    "3  A3  B3  C3  D3\n"
   ]
  },
  {
   "cell_type": "code",
   "execution_count": null,
   "id": "3a1a19c0-3de5-4c3b-b952-68362b978f81",
   "metadata": {},
   "outputs": [],
   "source": [
    "# Creating the second DataFrame\n",
    "df4 = pd.DataFrame({\n",
    "    'A': ['A4', 'A5', 'A6', 'A7'],\n",
    "    'B': ['B4', 'B5', 'B6', 'B7'],\n",
    "    'C': ['C4', 'C5', 'C6', 'C7'],\n",
    "    'D': ['D4', 'D5', 'D6', 'D7']\n",
    "}, index=[4, 5, 6, 7])\n",
    "\n",
    "df4"
   ]
  },
  {
   "cell_type": "code",
   "execution_count": null,
   "id": "f3b1606e-2ab5-4fb5-8689-e44f4fd1b60c",
   "metadata": {},
   "outputs": [],
   "source": [
    ">>\n",
    "    A   B   C   D\n",
    "4  A4  B4  C4  D4\n",
    "5  A5  B5  C5  D5\n",
    "6  A6  B6  C6  D6\n",
    "7  A7  B7  C7  D7"
   ]
  },
  {
   "cell_type": "markdown",
   "id": "d5851036-acc4-46d4-820d-4bcff6e662d2",
   "metadata": {},
   "source": [
    "### Concatenation\n",
    "\n",
    "Concatenation is used to append one DataFrame to another, either along rows or columns.\n",
    "\n",
    "To concatenate df3 and df4 along rows:"
   ]
  },
  {
   "cell_type": "code",
   "execution_count": null,
   "id": "b43ee87f-8078-46ca-b3ee-34bbc81e411d",
   "metadata": {},
   "outputs": [],
   "source": [
    "pd.concat([df3, df4])"
   ]
  },
  {
   "cell_type": "code",
   "execution_count": null,
   "id": "eedfa25b-48ea-4945-9b33-d7957d3a7db5",
   "metadata": {},
   "outputs": [],
   "source": [
    ">>\n",
    "    A   B   C   D\n",
    "0  A0  B0  C0  D0\n",
    "1  A1  B1  C1  D1\n",
    "2  A2  B2  C2  D2\n",
    "3  A3  B3  C3  D3\n",
    "4  A4  B4  C4  D4\n",
    "5  A5  B5  C5  D5\n",
    "6  A6  B6  C6  D6\n",
    "7  A7  B7  C7  D7"
   ]
  },
  {
   "cell_type": "markdown",
   "id": "de134e87-c94b-45df-a4eb-f0ccdc75ef56",
   "metadata": {},
   "source": [
    "To concatenate df3 and df4 along columns:"
   ]
  },
  {
   "cell_type": "code",
   "execution_count": null,
   "id": "13490017-c76e-42f9-a8fd-b00774deeded",
   "metadata": {},
   "outputs": [],
   "source": [
    "pd.concat([df3, df4], axis=1)"
   ]
  },
  {
   "cell_type": "code",
   "execution_count": null,
   "id": "2613f54e-9364-45d3-b4e3-1957a3fcb124",
   "metadata": {},
   "outputs": [],
   "source": [
    ">>\n",
    "    A   B   C   D    A   B   C   D\n",
    "0  A0  B0  C0  D0  NaN NaN NaN NaN\n",
    "1  A1  B1  C1  D1  NaN NaN NaN NaN\n",
    "2  A2  B2  C2  D2  NaN NaN NaN NaN\n",
    "3  A3  B3  C3  D3  NaN NaN NaN NaN\n",
    "4 NaN NaN NaN NaN   A4  B4  C4  D4\n",
    "5 NaN NaN NaN NaN   A5  B5  C5  D5\n",
    "6 NaN NaN NaN NaN   A6  B6  C6  D6\n",
    "7 NaN NaN NaN NaN   A7  B7  C7  D7"
   ]
  },
  {
   "cell_type": "markdown",
   "id": "1aa6011b-2191-4317-96c0-1d4b5d2f039a",
   "metadata": {},
   "source": [
    "### Merging\n",
    "\n",
    "The merge function allows you to merge DataFrames together using a key column, similar to SQL joins.\n",
    "\n",
    "First, let's create two DataFrames with a common key column."
   ]
  },
  {
   "cell_type": "code",
   "execution_count": null,
   "id": "c459907f-7a6f-424a-af43-a27ae7ecb39b",
   "metadata": {},
   "outputs": [],
   "source": [
    "# Creating the left DataFrame\n",
    "left = pd.DataFrame({\n",
    "    'key': ['A0', 'A1', 'A2', 'A3'],\n",
    "    'B': ['B0', 'B1', 'B2', 'B3'],\n",
    "    'C': ['C0', 'C1', 'C2', 'C3'],\n",
    "    'D': ['D0', 'D1', 'D2', 'D3']\n",
    "}, index=[0, 1, 2, 3])\n",
    "\n",
    "left"
   ]
  },
  {
   "cell_type": "code",
   "execution_count": null,
   "id": "3c06c1c9-7e2a-4667-9984-1dc8e04e423b",
   "metadata": {},
   "outputs": [],
   "source": [
    ">>\n",
    "   key   B   C   D\n",
    "0   A0  B0  C0  D0\n",
    "1   A1  B1  C1  D1\n",
    "2   A2  B2  C2  D2\n",
    "3   A3  B3  C3  D3"
   ]
  },
  {
   "cell_type": "code",
   "execution_count": null,
   "id": "f5af8af1-b7a1-4497-98a5-d82a1fa9aed3",
   "metadata": {},
   "outputs": [],
   "source": [
    "# Creating the right DataFrame\n",
    "right = pd.DataFrame({\n",
    "    'key': ['A0', 'A1', 'A2', 'A3'],\n",
    "    'B': ['B4', 'B5', 'B6', 'B7'],\n",
    "    'C': ['C4', 'C5', 'C6', 'C7'],\n",
    "    'D': ['D4', 'D5', 'D6', 'D7']\n",
    "}, index=[4, 5, 6, 7])\n",
    "\n",
    "right"
   ]
  },
  {
   "cell_type": "code",
   "execution_count": null,
   "id": "4e3eb722-53d8-4c57-8081-b554fe8a1767",
   "metadata": {},
   "outputs": [],
   "source": [
    ">>\n",
    "   key   B   C   D\n",
    "4   A0  B4  C4  D4\n",
    "5   A1  B5  C5  D5\n",
    "6   A2  B6  C6  D6\n",
    "7   A3  B7  C7  D7"
   ]
  },
  {
   "cell_type": "markdown",
   "id": "7cc9ca0b-5e90-4222-8579-51ad993fd4b3",
   "metadata": {},
   "source": [
    "To perform an inner merge on the key column:"
   ]
  },
  {
   "cell_type": "code",
   "execution_count": null,
   "id": "d12c09e7-03fa-499a-bceb-84e4f02c9c9a",
   "metadata": {},
   "outputs": [],
   "source": [
    "pd.merge(left, right, how='inner', on='key')"
   ]
  },
  {
   "cell_type": "code",
   "execution_count": null,
   "id": "576dd1a8-20ac-4105-ab2e-3e073e9e83c6",
   "metadata": {},
   "outputs": [],
   "source": [
    "   key  B_x  C_x  D_x  B_y  C_y  D_y\n",
    "0   A0   B0   C0   D0   B4   C4   D4\n",
    "1   A1   B1   C1   D1   B5   C5   D5\n",
    "2   A2   B2   C2   D2   B6   C6   D6\n",
    "3   A3   B3   C3   D3   B7   C7   D7"
   ]
  },
  {
   "cell_type": "markdown",
   "id": "a037117a-1b5d-4532-b3e6-7df740cbbb40",
   "metadata": {},
   "source": [
    "## Data Input and Output\n",
    "\n",
    "We will explore how to read data from various file formats into Pandas DataFrames, perform basic data exploration, and save DataFrames back to files. We will cover reading CSV files, Excel files, and HTML content, and demonstrate how to save data to CSV and Excel files."
   ]
  },
  {
   "cell_type": "markdown",
   "id": "0c0bbdfc-0122-4bc2-9c0b-d09b31fe6049",
   "metadata": {},
   "source": [
    "### Loading a CSV File\n",
    "\n",
    "We start by loading data from a CSV file using pd.read_csv.\n",
    "\n",
    "Use the file upload widget in Google Colab to upload your CSV file. This will allow you to select a file from your computer."
   ]
  },
  {
   "cell_type": "code",
   "execution_count": null,
   "id": "534ebd8a-a933-40d3-9332-3cb0d800ba4f",
   "metadata": {},
   "outputs": [],
   "source": [
    "# Upload CSV file\n",
    "from google.colab import files\n",
    "\n",
    "uploaded = files.upload()\n",
    "\n",
    "# Loading the CSV file\n",
    "load_csv = pd.read_csv('cars.csv')\n",
    "\n",
    "load_csv"
   ]
  },
  {
   "cell_type": "code",
   "execution_count": null,
   "id": "615b0772-d69f-40a7-817c-a4ad12dc714e",
   "metadata": {},
   "outputs": [],
   "source": [
    ">>   \n",
    "# Output will display the DataFrame content loaded from the CSV file"
   ]
  },
  {
   "cell_type": "markdown",
   "id": "f6b53b7f-4ae9-4644-aa89-c922e7891b17",
   "metadata": {},
   "source": [
    "### DataFrame Shape\n",
    "\n",
    "To get the shape (number of rows and columns) of the DataFrame:"
   ]
  },
  {
   "cell_type": "code",
   "execution_count": null,
   "id": "29895159-e5bc-464b-aa83-1b7e2931d881",
   "metadata": {},
   "outputs": [],
   "source": [
    "load_csv.shape"
   ]
  },
  {
   "cell_type": "markdown",
   "id": "7110f17d-ddf9-46df-aa7e-c164e61c4d26",
   "metadata": {},
   "source": [
    "### Viewing the First Few Rows\n",
    "\n",
    "To view the first five rows of the DataFrame (default) or specify the number of rows:"
   ]
  },
  {
   "cell_type": "code",
   "execution_count": null,
   "id": "c5a5c24f-652b-4de8-9d3d-3986c0409ba9",
   "metadata": {},
   "outputs": [],
   "source": [
    "load_csv.head()\n",
    "load_csv.head(3)  # First three rows"
   ]
  },
  {
   "cell_type": "markdown",
   "id": "d778299f-368d-486f-9aa7-77a117b8fcec",
   "metadata": {},
   "source": [
    "## Viewing the Last Few Rows\n",
    "\n",
    "To view the last five rows of the DataFrame:"
   ]
  },
  {
   "cell_type": "code",
   "execution_count": null,
   "id": "19f3b77b-4519-4c75-9ab7-4c327296eaae",
   "metadata": {},
   "outputs": [],
   "source": [
    "load_csv.tail()"
   ]
  },
  {
   "cell_type": "markdown",
   "id": "a6f0698a-e8b2-4fd3-9399-dc246c819be4",
   "metadata": {},
   "source": [
    "### Statistical Summary\n",
    "\n",
    "To get a statistical summary of the DataFrame:"
   ]
  },
  {
   "cell_type": "markdown",
   "id": "ba2405b4-47f1-4543-bbe6-c19244ba98cb",
   "metadata": {},
   "source": [
    "load_csv.describe()"
   ]
  },
  {
   "cell_type": "markdown",
   "id": "8036643f-0cd2-4f61-b578-61bb5142e899",
   "metadata": {},
   "source": [
    "### Create a New DataFrame for the CSV"
   ]
  },
  {
   "cell_type": "code",
   "execution_count": null,
   "id": "06d7c9d1-dcd4-4a47-8355-edd2a8bcc109",
   "metadata": {},
   "outputs": [],
   "source": [
    "# Create a new DataFrame with specific columns and additional calculations\n",
    "new_df = pd.DataFrame()\n",
    "\n",
    "# Example: Copy specific columns from the original DataFrame\n",
    "new_df['Column1'] = load_csv['manufacturer']\n",
    "new_df['Column2'] = load_csv['model']\n",
    "\n",
    "print(new_df.head())"
   ]
  },
  {
   "cell_type": "markdown",
   "id": "a6ac9030-888b-47af-b5c9-75eeff9709b4",
   "metadata": {},
   "source": [
    "### Loading an Excel File\n",
    "\n",
    "To load data from an Excel file:"
   ]
  },
  {
   "cell_type": "code",
   "execution_count": null,
   "id": "8f15cdcf-7fd8-4054-ad70-749e4628fe87",
   "metadata": {},
   "outputs": [],
   "source": [
    "# Upload Excel file\n",
    "from google.colab import files\n",
    "\n",
    "uploaded = files.upload()\n",
    "\n",
    "# Loading the Excel file\n",
    "load_excel=pd.read_excel(\"cars.xlsx\", sheet_name='Sheet1')\n",
    "\n",
    "load_excel"
   ]
  },
  {
   "cell_type": "markdown",
   "id": "267f4f76-2c0e-44ac-906a-6220c3a58754",
   "metadata": {},
   "source": [
    "### Loading HTML Content\n",
    "\n",
    "To load data from an HTML table, we use pd.read_html."
   ]
  },
  {
   "cell_type": "code",
   "execution_count": null,
   "id": "26fa1a0e-c735-4adf-ba74-ac8f585a4b4a",
   "metadata": {},
   "outputs": [],
   "source": [
    "# A library for making HTTP requests to fetch content from the web.\n",
    "import requests\n",
    "#  A library for parsing HTML and XML documents.\n",
    "from bs4 import BeautifulSoup\n",
    "## Disable SSL verification\n",
    "import ssl\n",
    "\n",
    "ssl._create_default_https_context = ssl._create_unverified_context\n",
    "\n",
    "load_html = pd.read_html(\"https://www.must.ac.ke/kuccps-2019-admission-list-2/\")\n",
    "load_html"
   ]
  },
  {
   "cell_type": "markdown",
   "id": "73c341d1-ca0b-45bd-afee-2cfbd893acaf",
   "metadata": {},
   "source": [
    "### Handling Missing Data in Pandas\n",
    "\n",
    "In data analysis, missing data is a common issue that can significantly impact the results of your analysis. This section will cover various methods to handle missing data using Pandas, a powerful data manipulation library in Python."
   ]
  },
  {
   "cell_type": "markdown",
   "id": "afc19949-c1b6-4652-91c1-499a4d66216d",
   "metadata": {},
   "source": [
    "### Identifying Missing Data"
   ]
  },
  {
   "cell_type": "code",
   "execution_count": null,
   "id": "788f43bb-acdd-4987-86d0-2b46a7acb399",
   "metadata": {},
   "outputs": [],
   "source": [
    "import pandas as pd\n",
    "import numpy as np\n",
    "\n",
    "# Create a sample DataFrame with missing values\n",
    "dataframe = pd.DataFrame({'A': [1, 2, np.nan], 'B': [5, np.nan, np.nan], 'C': [1, 2, 5]})\n",
    "print(dataframe)\n",
    "\n",
    "# Check for missing values\n",
    "print(dataframe.isnull())\n",
    "\n",
    "# Count of missing values per column\n",
    "print(dataframe.isnull().sum())\n",
    "\n",
    "# Total number of missing values\n",
    "print(dataframe.isnull().sum().sum())"
   ]
  },
  {
   "cell_type": "markdown",
   "id": "b25be55e-85d9-49aa-ac4e-97132021fcd8",
   "metadata": {},
   "source": [
    "### Methods of Dealing with Missing Values"
   ]
  },
  {
   "cell_type": "markdown",
   "id": "12d692e0-5e39-4165-b178-e8ab607fc84c",
   "metadata": {},
   "source": [
    "#### 1 Dropping Null Values"
   ]
  },
  {
   "cell_type": "code",
   "execution_count": null,
   "id": "e0bd392e-91fe-482c-a89d-6dc73f538863",
   "metadata": {},
   "outputs": [],
   "source": [
    "# Dropping rows with any null values\n",
    "print(dataframe.dropna())\n",
    "\n",
    "# Dropping columns with any null values\n",
    "print(dataframe.dropna(axis=1))\n",
    "\n",
    "# Dropping rows with at least 2 non-null values\n",
    "print(dataframe.dropna(thresh=2))\n",
    "\n",
    "# Dropping columns with at least 2 non-null values\n",
    "print(dataframe.dropna(thresh=2, axis=1))"
   ]
  },
  {
   "cell_type": "code",
   "execution_count": null,
   "id": "727a561c-3829-4756-a605-ebc099bd977a",
   "metadata": {},
   "outputs": [],
   "source": [
    ">>\n",
    "     A    B  C\n",
    "0  1.0  5.0  1\n",
    "   C\n",
    "0  1\n",
    "1  2\n",
    "2  5\n",
    "     A    B  C\n",
    "0  1.0  5.0  1\n",
    "1  2.0  NaN  2\n",
    "     A  C\n",
    "0  1.0  1\n",
    "1  2.0  2\n",
    "2  NaN  5"
   ]
  },
  {
   "cell_type": "markdown",
   "id": "c05e6243-cf52-4957-a80e-85aa0b169b49",
   "metadata": {},
   "source": [
    "#### 2 Filling Null Values with a Specified Value"
   ]
  },
  {
   "cell_type": "code",
   "execution_count": null,
   "id": "0d18e4e8-3c70-4c6e-8911-78f225e03ac6",
   "metadata": {},
   "outputs": [],
   "source": [
    "# Filling null values with a specified value\n",
    "print(dataframe.fillna(value=0.5))"
   ]
  },
  {
   "cell_type": "code",
   "execution_count": null,
   "id": "9b42da89-89ba-4a9f-9130-fa74473a0ff6",
   "metadata": {},
   "outputs": [],
   "source": [
    ">>\n",
    "     A    B  C\n",
    "0  1.0  5.0  1\n",
    "1  2.0  0.5  2\n",
    "2  0.5  0.5  5"
   ]
  },
  {
   "cell_type": "markdown",
   "id": "c73fd2dd-6330-49b8-88d7-8b67e0c2f9d9",
   "metadata": {},
   "source": [
    "#### 3 Replacing Null Values with Mean, Median, or Mode"
   ]
  },
  {
   "cell_type": "code",
   "execution_count": null,
   "id": "dc42622f-fb86-4372-b9ee-c8f873a1933e",
   "metadata": {},
   "outputs": [],
   "source": [
    "# Sample DataFrame\n",
    "dataframe2 = pd.DataFrame({'A': [1, 2, np.nan], 'B': [5, np.nan, np.nan], 'C': [1, 2, 5]})\n",
    "\n",
    "# Replace null values with the mean\n",
    "dataframe2['A'].fillna(value=dataframe2['A'].mean(), inplace=True)\n",
    "print(dataframe2)\n",
    "\n",
    "# Fill null values with a specified value\n",
    "dataframe2['B'].fillna(value=2, inplace=True)\n",
    "print(dataframe2)\n",
    "\n",
    "# Replace null values with the median\n",
    "dataframe2['A'].fillna(value=dataframe2['A'].median(), inplace=True)\n",
    "print(dataframe2)\n",
    "\n",
    "# Replace null values with the mode\n",
    "dataframe2['A'].fillna(value=dataframe2['A'].mode()[0], inplace=True)\n",
    "print(dataframe2)"
   ]
  },
  {
   "cell_type": "code",
   "execution_count": null,
   "id": "51889b3f-2d88-4413-b1c7-4acc15c4f2a6",
   "metadata": {},
   "outputs": [],
   "source": [
    ">>\n",
    "     A    B  C\n",
    "0  1.0  5.0  1\n",
    "1  2.0  NaN  2\n",
    "2  1.5  NaN  5\n",
    "     A    B  C\n",
    "0  1.0  5.0  1\n",
    "1  2.0  2.0  2\n",
    "2  1.5  2.0  5\n",
    "     A    B  C\n",
    "0  1.0  5.0  1\n",
    "1  2.0  2.0  2\n",
    "2  1.5  2.0  5\n",
    "     A    B  C\n",
    "0  1.0  5.0  1\n",
    "1  2.0  2.0  2\n",
    "2  1.5  2.0  5"
   ]
  },
  {
   "cell_type": "markdown",
   "id": "c8ed9ce2-1b01-40a1-81ff-f4197a8c32a2",
   "metadata": {},
   "source": [
    "#### 4 Interpolating Missing Values"
   ]
  },
  {
   "cell_type": "code",
   "execution_count": null,
   "id": "8027f9b2-6737-4f69-9b9e-d0e67744904a",
   "metadata": {},
   "outputs": [],
   "source": [
    "# Interpolating missing values linearly\n",
    "print(dataframe2.interpolate())\n",
    "\n",
    "# Interpolating missing values with a linear method\n",
    "dataframe3 = pd.DataFrame({'A': [1, 2, np.nan], 'B': [5, np.nan, np.nan], 'C': [1, 2, 5]})\n",
    "print(dataframe3.interpolate(method='linear', order=1))"
   ]
  },
  {
   "cell_type": "code",
   "execution_count": null,
   "id": "da3af50c-84cc-48ea-9eb8-a6e478e4684b",
   "metadata": {},
   "outputs": [],
   "source": [
    "     A    B  C\n",
    "0  1.0  4.0  7\n",
    "1  2.0  5.0  8\n",
    "2  3.0  6.0  9\n",
    "     A    B  C\n",
    "0  1.0  5.0  1\n",
    "1  2.0  5.0  2\n",
    "2  2.0  5.0  5"
   ]
  },
  {
   "cell_type": "markdown",
   "id": "6d7ba5d9-f491-440a-88e9-c5ad8e12fae5",
   "metadata": {},
   "source": [
    "#### 5 Forward and Backward Filling"
   ]
  },
  {
   "cell_type": "code",
   "execution_count": null,
   "id": "51d4cd3f-0a1e-4f39-8606-4968ebbe2877",
   "metadata": {},
   "outputs": [],
   "source": [
    "# Forward filling (last known value)\n",
    "dataframe5 = dataframe3.ffill()\n",
    "print(dataframe5)\n",
    "\n",
    "# Backward filling (next known value)\n",
    "dataframe6 = dataframe3.bfill()\n",
    "print(dataframe6)"
   ]
  },
  {
   "cell_type": "markdown",
   "id": "668d1eb4-08e8-4031-af33-dc8cafc2a9b5",
   "metadata": {},
   "source": [
    "     A    B  C\n",
    "0  1.0  5.0  1\n",
    "1  2.0  5.0  2\n",
    "2  2.0  5.0  5\n",
    "     A    B  C\n",
    "0  1.0  5.0  1\n",
    "1  2.0  NaN  2\n",
    "2  NaN  NaN  5"
   ]
  },
  {
   "cell_type": "markdown",
   "id": "36acd7f5-d7db-4730-ae24-e5e800569b1e",
   "metadata": {},
   "source": [
    "# Excercices  "
   ]
  },
  {
   "cell_type": "markdown",
   "id": "b132d9e9-e7d2-4715-8cbb-153007eca990",
   "metadata": {},
   "source": [
    "## Exercice 1 : Creating and Modifying Series\n",
    "\n",
    "Create a Pandas Series from a dictionary where keys are ['a', 'b', 'c'] and values are [100, 200, 300]."
   ]
  },
  {
   "cell_type": "markdown",
   "id": "e281299b-4a99-4623-b56d-d61a473ad7e5",
   "metadata": {},
   "source": [
    "## Exercice 2 : Creating DataFrames"
   ]
  },
  {
   "cell_type": "markdown",
   "id": "93db13d8-0325-4e8c-854e-72f41d2daad2",
   "metadata": {},
   "source": [
    "Create a DataFrame from the following data:"
   ]
  },
  {
   "cell_type": "code",
   "execution_count": null,
   "id": "8d115c9e-aa8c-4a1f-8c69-4ab43d02004b",
   "metadata": {},
   "outputs": [],
   "source": [
    "   A  B  C\n",
    "0  1  2  3\n",
    "1  4  5  6\n",
    "2  7  8  9"
   ]
  },
  {
   "cell_type": "markdown",
   "id": "c65b5508-5e16-4ea9-ad9a-e9f1bb4c2a8b",
   "metadata": {},
   "source": [
    "Modify the code to add a new column D with values [10, 11, 12].\n",
    "\n",
    "Drop column B from the DataFrame and display the result."
   ]
  },
  {
   "cell_type": "markdown",
   "id": "6b46e075-79c8-47eb-8e20-835f22ec5f63",
   "metadata": {},
   "source": [
    "## Exercice 3 : DataFrame Indexing and Selection"
   ]
  },
  {
   "cell_type": "markdown",
   "id": "91c7c3a8-4173-4dc5-ba8a-f2f6c02137c7",
   "metadata": {},
   "source": [
    "Select column B from the following DataFrame:"
   ]
  },
  {
   "cell_type": "code",
   "execution_count": null,
   "id": "9194aa8e-537e-470e-ab03-69ff9a37dd78",
   "metadata": {},
   "outputs": [],
   "source": [
    "   A  B  C\n",
    "0  1  2  3\n",
    "1  4  5  6\n",
    "2  7  8  9"
   ]
  },
  {
   "cell_type": "markdown",
   "id": "0824bbb4-94cd-4aa7-b909-274159ec8613",
   "metadata": {},
   "source": [
    "Modify the code to select both columns A and C.\n",
    "\n",
    "Select the row with index 1 using the .loc method."
   ]
  },
  {
   "cell_type": "markdown",
   "id": "b4135276-a6b7-462e-bbf1-6da1b75a1c26",
   "metadata": {},
   "source": [
    "## Exercice 4 : Adding and Removing DataFrame Elements"
   ]
  },
  {
   "cell_type": "markdown",
   "id": "fde1473b-4988-4c32-b4cf-8c44b10cc84a",
   "metadata": {},
   "source": [
    "Add a new column Sum to the DataFrame which is the sum of columns A, B, and C.\n",
    "\n",
    "Remove the column Sum from the DataFrame.\n",
    "\n",
    "Add a column Random with random numbers generated using numpy."
   ]
  },
  {
   "cell_type": "markdown",
   "id": "ad332873-d168-4368-a8ad-c88771717923",
   "metadata": {},
   "source": [
    "## Exercice 5 : Merging DataFrames\n",
    "\n",
    "Merge the following two DataFrames on the key column:"
   ]
  },
  {
   "cell_type": "code",
   "execution_count": null,
   "id": "03803424-ca8e-4383-bf53-3df16d37ae5a",
   "metadata": {},
   "outputs": [],
   "source": [
    "left:\n",
    "   key  A  B\n",
    "0    1  A1  B1\n",
    "1    2  A2  B2\n",
    "2    3  A3  B3\n",
    "\n",
    "right:\n",
    "   key  C  D\n",
    "0    1  C1  D1\n",
    "1    2  C2  D2\n",
    "2    3  C3  D3"
   ]
  },
  {
   "cell_type": "markdown",
   "id": "7989c6b0-6a8a-48f7-915a-ea0f3d0d7e9a",
   "metadata": {},
   "source": [
    "Modify the merge to use an outer join instead of an inner join.\n",
    "\n",
    "Add a new column E to the right DataFrame and update the merge to include this new column."
   ]
  },
  {
   "cell_type": "markdown",
   "id": "e17a8ae3-1408-499b-b8eb-72bdecfa19ee",
   "metadata": {},
   "source": [
    "## Exercice 6 : Data Cleaning\n",
    "\n",
    "Replace all NaN values in the following DataFrame with the value 0:"
   ]
  },
  {
   "cell_type": "code",
   "execution_count": null,
   "id": "4f582db3-a277-4cc1-9496-6e88a783c11a",
   "metadata": {},
   "outputs": [],
   "source": [
    "   A    B    C\n",
    "0  1.0  NaN  3.0\n",
    "1  NaN  5.0  6.0\n",
    "2  7.0  8.0  NaN"
   ]
  },
  {
   "cell_type": "markdown",
   "id": "5820e6c3-57e1-4efa-b79c-4e54bed24909",
   "metadata": {},
   "source": [
    "Modify the code to replace NaN values with the mean of the column.\n",
    "\n",
    "Drop rows where any value is NaN."
   ]
  },
  {
   "cell_type": "markdown",
   "id": "9eb7ce98-bab9-4b6c-bc44-5b533217beff",
   "metadata": {},
   "source": [
    "## Exercice 7 : Grouping and Aggregation\n",
    "\n",
    "Group the following DataFrame by column Category and calculate the mean of column Value:"
   ]
  },
  {
   "cell_type": "code",
   "execution_count": null,
   "id": "913a56df-cbe9-4ba6-bb7f-88b933ce1ff0",
   "metadata": {},
   "outputs": [],
   "source": [
    "   Category  Value\n",
    "0         A      1\n",
    "1         B      2\n",
    "2         A      3\n",
    "3         B      4\n",
    "4         A      5\n",
    "5         B      6"
   ]
  },
  {
   "cell_type": "markdown",
   "id": "769e329c-6139-41ff-9077-d88bddcdaee8",
   "metadata": {},
   "source": [
    "Modify the code to calculate the sum instead of the mean.\n",
    "\n",
    "Group by Category and count the number of entries in each group."
   ]
  },
  {
   "cell_type": "markdown",
   "id": "d4963899-45ad-4d56-8472-f09b10ae3987",
   "metadata": {},
   "source": [
    "## Exercice 8 : Pivot Tables\n",
    "\n",
    "Create a pivot table from the following DataFrame, showing the mean Value for each Category and Type:"
   ]
  },
  {
   "cell_type": "code",
   "execution_count": null,
   "id": "59834ca0-872e-44a2-8771-7ab0a2be28d1",
   "metadata": {},
   "outputs": [],
   "source": [
    "   Category  Type  Value\n",
    "0         A     X      1\n",
    "1         A     Y      2\n",
    "2         A     X      3\n",
    "3         B     Y      4\n",
    "4         B     X      5\n",
    "5         B     Y      6"
   ]
  },
  {
   "cell_type": "markdown",
   "id": "0b905788-ad2d-430b-84fa-b4c08d1d430c",
   "metadata": {},
   "source": [
    "Modify the pivot table to show the sum of Value instead of the mean.\n",
    "\n",
    "Add margins to the pivot table to show the total mean for each Category and Type."
   ]
  },
  {
   "cell_type": "markdown",
   "id": "7a0c8217-b18f-4988-8df9-4b4b21c1910c",
   "metadata": {},
   "source": [
    "## Exercice 9 : Time Series Data"
   ]
  },
  {
   "cell_type": "markdown",
   "id": "0661ff2d-f782-4ba8-b5b5-58459a7f6c9f",
   "metadata": {},
   "source": [
    "Create a time series DataFrame with a date range starting from '2023-01-01' for 6 periods and random values.\n",
    "\n",
    "Set the date column as the index of the DataFrame.\n",
    "\n",
    "Resample the data to calculate the sum for each 2-day period."
   ]
  },
  {
   "cell_type": "markdown",
   "id": "72aef470-eb2e-4993-9628-f65962228e77",
   "metadata": {},
   "source": [
    "## Exercice 10 : Handling Missing Data\n",
    "\n",
    "Interpolate missing values in the following DataFrame:"
   ]
  },
  {
   "cell_type": "code",
   "execution_count": null,
   "id": "a8860371-7cf1-4c99-9796-7b754b658c3d",
   "metadata": {},
   "outputs": [],
   "source": [
    "   A    B    C\n",
    "0  1.0  NaN  3.0\n",
    "1  2.0  5.0  NaN\n",
    "2  NaN  8.0  9.0"
   ]
  },
  {
   "cell_type": "markdown",
   "id": "c1549ce6-bd99-4ef2-aa42-bb572c03a7b8",
   "metadata": {},
   "source": [
    "Drop rows with any NaN values instead of interpolating."
   ]
  },
  {
   "cell_type": "markdown",
   "id": "1f7230d9-f87c-44a7-a040-e3c3b7301bab",
   "metadata": {},
   "source": [
    "## Exercice 11 : DataFrame Operations\n",
    "\n",
    "Calculate the cumulative sum of the following DataFrame:"
   ]
  },
  {
   "cell_type": "code",
   "execution_count": null,
   "id": "00a61342-b205-49f3-a557-a9ff15f9db10",
   "metadata": {},
   "outputs": [],
   "source": [
    "   A  B  C\n",
    "0  1  2  3\n",
    "1  4  5  6\n",
    "2  7  8  9"
   ]
  },
  {
   "cell_type": "markdown",
   "id": "9f3315a1-8b8c-43b0-b73e-c995526b17e8",
   "metadata": {},
   "source": [
    "Calculate the cumulative product of the DataFrame.\n",
    "\n",
    "Apply a function to subtract 1 from all elements in the DataFrame."
   ]
  }
 ],
 "metadata": {
  "kernelspec": {
   "display_name": "Python 3 (ipykernel)",
   "language": "python",
   "name": "python3"
  },
  "language_info": {
   "codemirror_mode": {
    "name": "ipython",
    "version": 3
   },
   "file_extension": ".py",
   "mimetype": "text/x-python",
   "name": "python",
   "nbconvert_exporter": "python",
   "pygments_lexer": "ipython3",
   "version": "3.11.7"
  }
 },
 "nbformat": 4,
 "nbformat_minor": 5
}
