{
 "cells": [
  {
   "cell_type": "markdown",
   "id": "5e934aeb-39fb-446a-b48e-6eefa3780a0c",
   "metadata": {},
   "source": [
    "## Answer Key:\n",
    "1. c) They support efficient mathematical operations such as matrix multiplication.\n",
    "2. b) `np.array([[1, 2], [3, 4]])`\n",
    "3. c) 5\n",
    "4. d) Both a and c\n",
    "5. b) Creates a 2D array with 3 rows and 4 columns, filled with zeros.\n",
    "6. c) `arr.shape`\n",
    "7. b) `[20, 30, 40]`\n",
    "8. d) Both b and c\n",
    "9. a) `np.linspace(0, 1, 5)`\n",
    "10. b) `np.dot(a, b)`"
   ]
  }
 ],
 "metadata": {
  "kernelspec": {
   "display_name": "Python 3 (ipykernel)",
   "language": "python",
   "name": "python3"
  },
  "language_info": {
   "codemirror_mode": {
    "name": "ipython",
    "version": 3
   },
   "file_extension": ".py",
   "mimetype": "text/x-python",
   "name": "python",
   "nbconvert_exporter": "python",
   "pygments_lexer": "ipython3",
   "version": "3.11.7"
  }
 },
 "nbformat": 4,
 "nbformat_minor": 5
}
