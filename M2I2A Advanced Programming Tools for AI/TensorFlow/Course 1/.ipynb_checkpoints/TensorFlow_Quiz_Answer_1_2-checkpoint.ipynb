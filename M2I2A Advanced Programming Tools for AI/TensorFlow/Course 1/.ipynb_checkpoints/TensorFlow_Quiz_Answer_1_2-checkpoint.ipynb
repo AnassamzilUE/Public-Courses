{
 "cells": [
  {
   "cell_type": "markdown",
   "id": "c4ab3bbd-8849-45e6-9982-82d7d27e1c6d",
   "metadata": {},
   "source": [
    "### Question 1: B\n",
    "\n",
    "### Question 2: B\n",
    "\n",
    "### Question 3: B\n",
    "\n",
    "### Question 4: C\n",
    "\n",
    "### Question 5: C\n",
    "\n",
    "### Question 6: B\n",
    "\n",
    "### Question 7: B\n",
    "\n",
    "### Question 8: B"
   ]
  }
 ],
 "metadata": {
  "kernelspec": {
   "display_name": "Python 3 (ipykernel)",
   "language": "python",
   "name": "python3"
  },
  "language_info": {
   "codemirror_mode": {
    "name": "ipython",
    "version": 3
   },
   "file_extension": ".py",
   "mimetype": "text/x-python",
   "name": "python",
   "nbconvert_exporter": "python",
   "pygments_lexer": "ipython3",
   "version": "3.11.7"
  }
 },
 "nbformat": 4,
 "nbformat_minor": 5
}
