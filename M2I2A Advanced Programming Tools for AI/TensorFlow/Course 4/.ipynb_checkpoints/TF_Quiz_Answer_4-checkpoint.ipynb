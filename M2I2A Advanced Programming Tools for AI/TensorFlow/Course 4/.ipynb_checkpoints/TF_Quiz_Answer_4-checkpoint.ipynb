{
 "cells": [
  {
   "cell_type": "markdown",
   "id": "fdd85f9e-57f2-43d5-927c-119bb3683b17",
   "metadata": {},
   "source": [
    "### Question 1: B\n",
    "\n",
    "### Question 2: C\n",
    "\n",
    "### Question 3: C\n",
    "\n",
    "### Question 4: C\n",
    "\n",
    "### Question 5: B\n",
    "\n",
    "### Question 6: C\n",
    "\n",
    "### Question 7: B\n",
    "\n",
    "### Question 8: C\n",
    "\n",
    "### Question 9: B"
   ]
  }
 ],
 "metadata": {
  "kernelspec": {
   "display_name": "Python 3 (ipykernel)",
   "language": "python",
   "name": "python3"
  },
  "language_info": {
   "codemirror_mode": {
    "name": "ipython",
    "version": 3
   },
   "file_extension": ".py",
   "mimetype": "text/x-python",
   "name": "python",
   "nbconvert_exporter": "python",
   "pygments_lexer": "ipython3",
   "version": "3.11.7"
  }
 },
 "nbformat": 4,
 "nbformat_minor": 5
}
